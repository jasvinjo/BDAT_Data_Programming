{
 "cells": [
  {
   "cell_type": "code",
   "execution_count": 4,
   "id": "3be3c9c5-7fe0-45ed-8e00-aae9d0cfc416",
   "metadata": {},
   "outputs": [
    {
     "name": "stdout",
     "output_type": "stream",
     "text": [
      "m(0, 0):\n",
      "\n",
      "m(0, 1):\n",
      "*\n",
      "\n",
      "m(0, 2):\n",
      "*\n",
      "**\n",
      " *\n",
      "\n",
      "m(0, 4):\n",
      "*\n",
      "**\n",
      " *\n",
      "****\n",
      "  *\n",
      "  **\n",
      "   *\n"
     ]
    }
   ],
   "source": [
    "def m(indent, lines):\n",
    "    if lines == 0:\n",
    "        return\n",
    "    elif lines == 1:\n",
    "        print(' ' * indent + '*')\n",
    "    else:\n",
    "        # Print the initial part of the pattern\n",
    "        print(' ' * indent + '*')\n",
    "        if lines > 1:\n",
    "            print(' ' * indent + '**')\n",
    "            print(' ' * (indent + 1) + '*')\n",
    "\n",
    "        # Print the line with multiple stars in the middle of the pattern\n",
    "        if lines > 2:\n",
    "            print(' ' * indent + '*' * lines)\n",
    "\n",
    "        # Recursively call to generate the next part of the pattern\n",
    "        if lines > 2:\n",
    "            m(indent + 2, lines - 2)\n",
    "\n",
    "# Test cases\n",
    "print(\"m(0, 0):\")\n",
    "m(0, 0)\n",
    "print(\"\\nm(0, 1):\")\n",
    "m(0, 1)\n",
    "print(\"\\nm(0, 2):\")\n",
    "m(0, 2)\n",
    "print(\"\\nm(0, 4):\")\n",
    "m(0, 4)\n"
   ]
  },
  {
   "cell_type": "code",
   "execution_count": null,
   "id": "e69e1694-b897-4970-bdfe-c0df050c69c4",
   "metadata": {},
   "outputs": [],
   "source": []
  }
 ],
 "metadata": {
  "kernelspec": {
   "display_name": "Python 3 (ipykernel)",
   "language": "python",
   "name": "python3"
  },
  "language_info": {
   "codemirror_mode": {
    "name": "ipython",
    "version": 3
   },
   "file_extension": ".py",
   "mimetype": "text/x-python",
   "name": "python",
   "nbconvert_exporter": "python",
   "pygments_lexer": "ipython3",
   "version": "3.11.7"
  }
 },
 "nbformat": 4,
 "nbformat_minor": 5
}
