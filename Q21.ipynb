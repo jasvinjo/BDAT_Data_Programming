{
 "cells": [
  {
   "cell_type": "code",
   "execution_count": 9,
   "id": "952a2694-8d46-4e14-b032-7c3d73f95ba9",
   "metadata": {},
   "outputs": [
    {
     "name": "stdout",
     "output_type": "stream",
     "text": [
      "Length of the segment: 5.0\n",
      "Slope of the segment: 0.75\n"
     ]
    }
   ],
   "source": [
    "import math\n",
    "\n",
    "class Point:\n",
    "    def __init__(self, x=0, y=0):\n",
    "        self.x_coord = x  # Changed variable name x to x_coord\n",
    "        self.y_coord = y  # Changed variable name y to y_coord\n",
    "\n",
    "class Segment:\n",
    "    def __init__(self, point1=None, point2=None):\n",
    "        self.point1 = point1 if point1 else Point()  # Changed variable name p1 to point1\n",
    "        self.point2 = point2 if point2 else Point()  # Changed variable name p2 to point2\n",
    "    \n",
    "    def calculate_length(self):\n",
    "        # Calculate and return the length of the segment using the Euclidean distance formula\n",
    "        return math.sqrt((self.point2.x_coord - self.point1.x_coord)**2 + (self.point2.y_coord - self.point1.y_coord)**2)\n",
    "    \n",
    "    def calculate_slope(self):\n",
    "        # Calculate and return the slope of the segment\n",
    "        delta_x = self.point2.x_coord - self.point1.x_coord\n",
    "        delta_y = self.point2.y_coord - self.point1.y_coord\n",
    "        if delta_x != 0:\n",
    "            return delta_y / delta_x\n",
    "        else:\n",
    "            return None  # Return None for vertical segments (undefined slope)\n",
    "\n",
    "# Example usage:\n",
    "p1 = Point(3, 4)      # Create Point p1 at (3, 4)\n",
    "p2 = Point(7, 7)      # Create Point p2 at (7, 7)\n",
    "\n",
    "s = Segment(p1, p2)   # Create Segment s using points p1 and p2\n",
    "\n",
    "# Print the length and slope of segment s\n",
    "print(\"Length of the segment:\", s.calculate_length())\n",
    "print(\"Slope of the segment:\", s.calculate_slope())\n"
   ]
  },
  {
   "cell_type": "code",
   "execution_count": null,
   "id": "1448bd34-aefc-412b-9af7-729fe366b1b5",
   "metadata": {},
   "outputs": [],
   "source": []
  }
 ],
 "metadata": {
  "kernelspec": {
   "display_name": "Python 3 (ipykernel)",
   "language": "python",
   "name": "python3"
  },
  "language_info": {
   "codemirror_mode": {
    "name": "ipython",
    "version": 3
   },
   "file_extension": ".py",
   "mimetype": "text/x-python",
   "name": "python",
   "nbconvert_exporter": "python",
   "pygments_lexer": "ipython3",
   "version": "3.11.7"
  }
 },
 "nbformat": 4,
 "nbformat_minor": 5
}
