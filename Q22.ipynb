{
 "cells": [
  {
   "cell_type": "code",
   "execution_count": 1,
   "id": "c38abfb0-6f49-423d-b1ba-aa984daa82d5",
   "metadata": {},
   "outputs": [],
   "source": [
    "import sqlite3\n",
    "from datetime import date\n",
    "\n",
    "# New set of weather data for the example\n",
    "weather_entries = [\n",
    "    (1, '2015-01-01', 10),\n",
    "    (2, '2015-01-02', 25),\n",
    "    (3, '2015-01-03', 20),\n",
    "    (4, '2015-01-04', 30)\n",
    "]"
   ]
  },
  {
   "cell_type": "code",
   "execution_count": 6,
   "id": "cb750e32-2b91-4a36-908c-78369f62c56d",
   "metadata": {},
   "outputs": [],
   "source": [
    "import sqlite3\n",
    "\n",
    "def fetch_days_with_temperature_increase():\n",
    "    # Connect to the database\n",
    "    connection = sqlite3.connect('temperature_data22.db')\n",
    "    cursor = connection.cursor()\n",
    "\n",
    "    # Execute the SQL query (sql variable should be defined before this step)\n",
    "    cursor.execute(sql)\n",
    "\n",
    "    # Fetch all records that match the criteria\n",
    "    increased_temperature_days = cursor.fetchall()\n",
    "\n",
    "    # to Close the cursor and connection\n",
    "    cursor.close()\n",
    "    connection.close()\n",
    "\n",
    "    # to Return the fetched records\n",
    "    return increased_temperature_days\n"
   ]
  },
  {
   "cell_type": "code",
   "execution_count": 7,
   "id": "02380dad-a11a-49ad-9215-ca29d1ff6389",
   "metadata": {},
   "outputs": [],
   "source": [
    "import sqlite3\n",
    "\n",
    "def initialize_weather_database():\n",
    "    # Establish connection to the SQLite database\n",
    "    connection = sqlite3.connect('weather_data.db')\n",
    "    cursor = connection.cursor()\n",
    "\n",
    "    # Create the TemperatureRecords table if it doesn't exist\n",
    "    cursor.execute('''\n",
    "        CREATE TABLE IF NOT EXISTS TemperatureRecords (\n",
    "            record_id INTEGER PRIMARY KEY,\n",
    "            date TEXT,\n",
    "            temperature INTEGER\n",
    "        )\n",
    "    ''')\n",
    "\n",
    "    # Insert weather entries into the TemperatureRecords table\n",
    "    cursor.executemany('''\n",
    "        INSERT INTO TemperatureRecords (record_id, date, temperature) \n",
    "        VALUES (?, ?, ?)\n",
    "    ''', weather_entries)\n",
    "\n",
    "    # Commit the transaction and close the connection\n",
    "    connection.commit()\n",
    "    connection.close()\n"
   ]
  },
  {
   "cell_type": "code",
   "execution_count": 14,
   "id": "095667db-5c42-4497-9679-1a63191de6b9",
   "metadata": {},
   "outputs": [],
   "source": [
    "# SQL code to find days with higher temperatures than the previous day\n",
    "sql = \"\"\"\n",
    "    SELECT current_day.record_id\n",
    "    FROM TemperatureRecords current_day\n",
    "    JOIN TemperatureRecords previous_day \n",
    "    ON DATE(current_day.date, '-1 day') = previous_day.date\n",
    "    WHERE current_day.temperature > previous_day.temperature\n",
    "\"\"\""
   ]
  },
  {
   "cell_type": "code",
   "execution_count": 5,
   "id": "18247b08-6c7f-4d8b-b77d-b0411587a0e2",
   "metadata": {},
   "outputs": [
    {
     "name": "stdout",
     "output_type": "stream",
     "text": [
      "Days with higher temperatures than the previous day (record IDs): [(2,), (4,)]\n"
     ]
    }
   ],
   "source": [
    "# Create the database and retrieve the days with increased temperatures\n",
    "create_database()\n",
    "days_with_higher_temps = get_days_with_increase()\n",
    "\n",
    "# Print the days with higher temperatures\n",
    "print(\"Days with higher temperatures than the previous day (record IDs):\", days_with_higher_temps)"
   ]
  },
  {
   "cell_type": "code",
   "execution_count": null,
   "id": "16829899-2e13-4ffc-ade8-0be8203046da",
   "metadata": {},
   "outputs": [],
   "source": []
  }
 ],
 "metadata": {
  "kernelspec": {
   "display_name": "Python 3 (ipykernel)",
   "language": "python",
   "name": "python3"
  },
  "language_info": {
   "codemirror_mode": {
    "name": "ipython",
    "version": 3
   },
   "file_extension": ".py",
   "mimetype": "text/x-python",
   "name": "python",
   "nbconvert_exporter": "python",
   "pygments_lexer": "ipython3",
   "version": "3.11.7"
  }
 },
 "nbformat": 4,
 "nbformat_minor": 5
}
